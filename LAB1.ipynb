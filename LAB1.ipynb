{
  "nbformat": 4,
  "nbformat_minor": 0,
  "metadata": {
    "colab": {
      "provenance": [],
      "authorship_tag": "ABX9TyP/94D9K0jQXRNh/LiZpkiK",
      "include_colab_link": true
    },
    "kernelspec": {
      "name": "python3",
      "display_name": "Python 3"
    },
    "language_info": {
      "name": "python"
    }
  },
  "cells": [
    {
      "cell_type": "markdown",
      "metadata": {
        "id": "view-in-github",
        "colab_type": "text"
      },
      "source": [
        "<a href=\"https://colab.research.google.com/github/RudraPratapSinghBisht/PYTHON-CODE/blob/main/LAB1.ipynb\" target=\"_parent\"><img src=\"https://colab.research.google.com/assets/colab-badge.svg\" alt=\"Open In Colab\"/></a>"
      ]
    },
    {
      "cell_type": "code",
      "execution_count": 6,
      "metadata": {
        "colab": {
          "base_uri": "https://localhost:8080/"
        },
        "id": "2vRVNeYjIL8m",
        "outputId": "233a6a3c-db9d-4c73-ccaf-409fef467290"
      },
      "outputs": [
        {
          "output_type": "stream",
          "name": "stdout",
          "text": [
            "welcome to python\n",
            "<class 'float'>\n"
          ]
        }
      ],
      "source": [
        "1 #This is my first lab\n",
        "print(\"welcome to python\")\n",
        "a=10.5\n",
        "print(type(a))"
      ]
    },
    {
      "cell_type": "code",
      "source": [
        "a=10+10 #single line statement\n",
        "print(a)\n",
        "a=10+10+\\\n",
        "20+20+20+\\\n",
        "30+20+10\n",
        "\n",
        "print(a)\n"
      ],
      "metadata": {
        "colab": {
          "base_uri": "https://localhost:8080/"
        },
        "id": "isKp8SoCMLSC",
        "outputId": "2d209f9b-627e-460e-95b0-98263e813cdc"
      },
      "execution_count": 10,
      "outputs": [
        {
          "output_type": "stream",
          "name": "stdout",
          "text": [
            "20\n",
            "140\n"
          ]
        }
      ]
    },
    {
      "cell_type": "code",
      "source": [
        "l1=['a',\n",
        "    'e',\n",
        "    'i',\n",
        "    'o',\n",
        "    'u',\n",
        "]\n",
        "\n",
        "l1"
      ],
      "metadata": {
        "colab": {
          "base_uri": "https://localhost:8080/"
        },
        "id": "uVt1-V8NOicj",
        "outputId": "a2ec3ffb-fe37-4e96-f9e4-3df8bdfdef26"
      },
      "execution_count": 15,
      "outputs": [
        {
          "output_type": "execute_result",
          "data": {
            "text/plain": [
              "['a', 'e', 'i', 'o', 'u']"
            ]
          },
          "metadata": {},
          "execution_count": 15
        }
      ]
    },
    {
      "cell_type": "code",
      "source": [
        "mystring=\"hi, my name is rudra\\n  and i am studying in upes\"\n",
        "print (mystring)"
      ],
      "metadata": {
        "colab": {
          "base_uri": "https://localhost:8080/"
        },
        "id": "7hAoQFHdO8Kr",
        "outputId": "a59b53f3-4a1b-4360-9855-809feab1c7f0"
      },
      "execution_count": 22,
      "outputs": [
        {
          "output_type": "stream",
          "name": "stdout",
          "text": [
            "hi, my name is rudra\n",
            "  and i am studying in upes\n"
          ]
        }
      ]
    },
    {
      "cell_type": "code",
      "source": [
        "num1=int(input(\"enter the first number\"))\n",
        "num2=int(input(\"enter the second number\"))\n",
        "print(num1+num2)\n"
      ],
      "metadata": {
        "colab": {
          "base_uri": "https://localhost:8080/"
        },
        "id": "MiujbbS3Pq13",
        "outputId": "5baf8008-42dd-40f9-dd6b-be03ccec2e8b"
      },
      "execution_count": 23,
      "outputs": [
        {
          "output_type": "stream",
          "name": "stdout",
          "text": [
            "enter the first number54\n",
            "enter the second number85\n",
            "139\n"
          ]
        }
      ]
    },
    {
      "cell_type": "code",
      "source": [
        "num1=float(input(\"enter the first number\"))\n",
        "num2=float(input(\"enter the second number\"))\n",
        "print(num1+num2)"
      ],
      "metadata": {
        "colab": {
          "base_uri": "https://localhost:8080/"
        },
        "id": "KbZsclVlQ4Jq",
        "outputId": "5bad2eab-d70b-4382-c891-08da54412296"
      },
      "execution_count": 24,
      "outputs": [
        {
          "output_type": "stream",
          "name": "stdout",
          "text": [
            "enter the first number54\n",
            "enter the second number65\n",
            "119.0\n"
          ]
        }
      ]
    },
    {
      "cell_type": "code",
      "source": [
        "num1=float(input(\"enter the first number\"))\n",
        "num2=float(input(\"enter the second number\"))\n",
        "product = num1*num2\n",
        "print(product)"
      ],
      "metadata": {
        "colab": {
          "base_uri": "https://localhost:8080/"
        },
        "id": "VgUDUVniRWRb",
        "outputId": "d2f43f41-198e-4a10-f030-916d9792dd1f"
      },
      "execution_count": 25,
      "outputs": [
        {
          "output_type": "stream",
          "name": "stdout",
          "text": [
            "enter the first number45\n",
            "enter the second number2\n",
            "90.0\n"
          ]
        }
      ]
    },
    {
      "cell_type": "code",
      "source": [
        "num1=int(input(\"enter the first number\"))\n",
        "num2=int(input(\"enter the second number\"))\n",
        "product = num1*num2\n",
        "print(product)"
      ],
      "metadata": {
        "colab": {
          "base_uri": "https://localhost:8080/"
        },
        "id": "kHNHxHYDRvnK",
        "outputId": "210fff51-8d2d-4b57-93bb-cbfa6652e9a5"
      },
      "execution_count": 26,
      "outputs": [
        {
          "output_type": "stream",
          "name": "stdout",
          "text": [
            "enter the first number45\n",
            "enter the second number2\n",
            "90\n"
          ]
        }
      ]
    },
    {
      "cell_type": "code",
      "source": [
        "num1=int(input(\"enter the first number\"))\n",
        "num2=float(input(\"enter the second number\"))\n",
        "product = num1*num2\n",
        "print(product)"
      ],
      "metadata": {
        "colab": {
          "base_uri": "https://localhost:8080/"
        },
        "id": "subcMaDaR8eR",
        "outputId": "24aa2191-6b35-4b6d-f19e-9c536370f60a"
      },
      "execution_count": 27,
      "outputs": [
        {
          "output_type": "stream",
          "name": "stdout",
          "text": [
            "enter the first number45\n",
            "enter the second number2\n",
            "90.0\n"
          ]
        }
      ]
    }
  ]
}