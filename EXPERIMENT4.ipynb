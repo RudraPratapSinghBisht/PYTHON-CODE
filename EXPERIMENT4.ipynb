{
  "nbformat": 4,
  "nbformat_minor": 0,
  "metadata": {
    "colab": {
      "provenance": [],
      "authorship_tag": "ABX9TyOGHmWiIAlkr734uchVjCOY",
      "include_colab_link": true
    },
    "kernelspec": {
      "name": "python3",
      "display_name": "Python 3"
    },
    "language_info": {
      "name": "python"
    }
  },
  "cells": [
    {
      "cell_type": "markdown",
      "metadata": {
        "id": "view-in-github",
        "colab_type": "text"
      },
      "source": [
        "<a href=\"https://colab.research.google.com/github/RudraPratapSinghBisht/PYTHON-SEM-II/blob/main/EXPERIMENT4.ipynb\" target=\"_parent\"><img src=\"https://colab.research.google.com/assets/colab-badge.svg\" alt=\"Open In Colab\"/></a>"
      ]
    },
    {
      "cell_type": "code",
      "execution_count": 1,
      "metadata": {
        "colab": {
          "base_uri": "https://localhost:8080/"
        },
        "id": "OWHsKBu_ZoSy",
        "outputId": "500434cf-815e-49a1-8b33-f5a1be5d90df"
      },
      "outputs": [
        {
          "output_type": "stream",
          "name": "stdout",
          "text": [
            "Enter the number of terms to calculate fibonacci series:10\n",
            "1\n",
            "2\n",
            "3\n",
            "5\n",
            "8\n",
            "13\n",
            "21\n",
            "34\n"
          ]
        }
      ],
      "source": [
        "n=int(input(\"Enter the number of terms to calculate fibonacci series:\"))\n",
        "a,b=0,1\n",
        "if n==2:\n",
        "  print(\"the fibonacci value b:\",a+b)\n",
        "else:\n",
        "  i=3\n",
        "  while i<=n:\n",
        "    c=a+b\n",
        "    print(c)\n",
        "    a=b\n",
        "    b=c\n",
        "    i=i+1\n",
        "    while i<=n:\n",
        "      c=a+b\n",
        "      print(c)\n",
        "      a=b\n",
        "      b=c\n",
        "      i=i+1\n"
      ]
    },
    {
      "cell_type": "code",
      "source": [
        "num = int(input(\"Enter a number: \"))\n",
        "sum_of_digits = 0\n",
        "\n",
        "while num > 0:\n",
        "    digit = num % 10\n",
        "    sum_of_digits += digit\n",
        "    num //= 10\n",
        "\n",
        "print(\"Sum of digits:\", sum_of_digits)"
      ],
      "metadata": {
        "id": "_8i5nM62enT5"
      },
      "execution_count": null,
      "outputs": []
    },
    {
      "cell_type": "code",
      "source": [
        "num = int(input(\"Enter a number: \"))\n",
        "temp = num\n",
        "reversed_num = 0\n",
        "\n",
        "while temp > 0:\n",
        "    digit = temp % 10\n",
        "    reversed_num = (reversed_num * 10) + digit\n",
        "    temp //= 10\n",
        "\n",
        "if num == reversed_num:\n",
        "    print(num, \"is a palindrome\")\n",
        "else:\n",
        "    print(num, \"is not a palindrome\")"
      ],
      "metadata": {
        "colab": {
          "base_uri": "https://localhost:8080/"
        },
        "id": "SJ6jKpZIfPT-",
        "outputId": "282cb67a-dc76-4f20-98f1-aae60b1a14e8"
      },
      "execution_count": 8,
      "outputs": [
        {
          "output_type": "stream",
          "name": "stdout",
          "text": [
            "Enter a number: 12\n",
            "12 is not a palindrome\n"
          ]
        }
      ]
    },
    {
      "cell_type": "code",
      "source": [
        "num = int(input(\"Enter a number: \"))\n",
        "\n",
        "if num <= 1:\n",
        "    print(num, \"is not a prime number\")\n",
        "else:\n",
        "    i = 2\n",
        "    is_prime = True\n",
        "    while i * i <= num:\n",
        "        if num % i == 0:\n",
        "            is_prime = False\n",
        "            break\n",
        "        i += 1\n",
        "\n",
        "    if is_prime:\n",
        "        print(num, \"is a prime number\")\n",
        "    else:\n",
        "        print(num, \"is not a prime number\")"
      ],
      "metadata": {
        "colab": {
          "base_uri": "https://localhost:8080/"
        },
        "id": "LtPG8bx5fcrN",
        "outputId": "13d77f09-9e36-40e5-c64f-68a270984d45"
      },
      "execution_count": 9,
      "outputs": [
        {
          "output_type": "stream",
          "name": "stdout",
          "text": [
            "Enter a number: 3\n",
            "3 is a prime number\n"
          ]
        }
      ]
    },
    {
      "cell_type": "code",
      "source": [
        "num = int(input(\"Enter a number: \"))\n",
        "factorial = 1\n",
        "\n",
        "if num < 0:\n",
        "    print(\"Factorial is not defined for negative numbers.\")\n",
        "elif num == 0:\n",
        "    print(\"The factorial of 0 is 1\")\n",
        "else:\n",
        "    while num > 0:\n",
        "        factorial *= num\n",
        "        num -= 1\n",
        "\n",
        "    print(\"The factorial of\", num, \"is\", factorial)"
      ],
      "metadata": {
        "colab": {
          "base_uri": "https://localhost:8080/"
        },
        "id": "tAQrPXowgD1e",
        "outputId": "06a839e9-d015-462c-9312-2ea1e2ffedde"
      },
      "execution_count": 10,
      "outputs": [
        {
          "output_type": "stream",
          "name": "stdout",
          "text": [
            "Enter a number: 12\n",
            "The factorial of 0 is 479001600\n"
          ]
        }
      ]
    },
    {
      "cell_type": "code",
      "source": [
        "num = int(input(\"Enter a number: \"))\n",
        "temp = num\n",
        "order = len(str(num))\n",
        "sum_of_powers = 0\n",
        "\n",
        "while temp > 0:\n",
        "    digit = temp % 10\n",
        "    sum_of_powers += digit ** order\n",
        "    temp //= 10\n",
        "\n",
        "if num == sum_of_powers:\n",
        "    print(num, \"is an Armstrong number\")\n",
        "else:\n",
        "    print(num, \"is not an Armstrong number\")"
      ],
      "metadata": {
        "colab": {
          "base_uri": "https://localhost:8080/"
        },
        "id": "73NOSHQHgees",
        "outputId": "b9db4cc3-4625-4299-cb98-350f8837e45f"
      },
      "execution_count": 11,
      "outputs": [
        {
          "output_type": "stream",
          "name": "stdout",
          "text": [
            "Enter a number: 12\n",
            "12 is not an Armstrong number\n"
          ]
        }
      ]
    },
    {
      "cell_type": "code",
      "source": [
        "count = 0\n",
        "i = 1\n",
        "\n",
        "while i <= 100:\n",
        "    if i % 5 == 0 or i % 7 == 0:\n",
        "        print(i, end=\" \")\n",
        "        count += 1\n",
        "    i += 1\n",
        "\n",
        "print(\"\\nTotal numbers divisible by 5 or 7:\", count)"
      ],
      "metadata": {
        "colab": {
          "base_uri": "https://localhost:8080/"
        },
        "id": "B9dUp2dLgz4h",
        "outputId": "9a664236-cf67-4f76-cf4a-de6e27525ea0"
      },
      "execution_count": 12,
      "outputs": [
        {
          "output_type": "stream",
          "name": "stdout",
          "text": [
            "5 7 10 14 15 20 21 25 28 30 35 40 42 45 49 50 55 56 60 63 65 70 75 77 80 84 85 90 91 95 98 100 \n",
            "Total numbers divisible by 5 or 7: 32\n"
          ]
        }
      ]
    },
    {
      "cell_type": "code",
      "source": [
        "string = \"hello world\"\n",
        "i = 0\n",
        "\n",
        "while i < len(string):\n",
        "    if string[i].islower():\n",
        "        string = string[:i] + string[i].upper() + string[i+1:]\n",
        "    i += 1\n",
        "\n",
        "print(string)"
      ],
      "metadata": {
        "colab": {
          "base_uri": "https://localhost:8080/"
        },
        "id": "LmzGAGX5hHj1",
        "outputId": "92b2d67b-4544-45d5-935c-e7deab316df6"
      },
      "execution_count": 13,
      "outputs": [
        {
          "output_type": "stream",
          "name": "stdout",
          "text": [
            "HELLO WORLD\n"
          ]
        }
      ]
    },
    {
      "cell_type": "code",
      "source": [
        "i = 2\n",
        "while i <= 100:\n",
        "    is_prime = True\n",
        "    j = 2\n",
        "    while j * j <= i:\n",
        "        if i % j == 0:\n",
        "            is_prime = False\n",
        "            break\n",
        "        j += 1\n",
        "\n",
        "    if is_prime:\n",
        "        print(i, end=\" \")\n",
        "\n",
        "    i += 1\n",
        "\n",
        "print()"
      ],
      "metadata": {
        "colab": {
          "base_uri": "https://localhost:8080/"
        },
        "id": "w1t6suXahLKU",
        "outputId": "5aa625e5-461a-4988-95d6-401c4d38860c"
      },
      "execution_count": 14,
      "outputs": [
        {
          "output_type": "stream",
          "name": "stdout",
          "text": [
            "2 3 5 7 11 13 17 19 23 29 31 37 41 43 47 53 59 61 67 71 73 79 83 89 97 \n"
          ]
        }
      ]
    },
    {
      "cell_type": "code",
      "source": [
        "\n",
        "num = int(input(\"Enter a number: \"))\n",
        "\n",
        "i = 1\n",
        "\n",
        "while i <= 10:\n",
        "    result = num * i\n",
        "    print(f\"{num} x {i} = {result}\")\n",
        "    i += 1"
      ],
      "metadata": {
        "colab": {
          "base_uri": "https://localhost:8080/"
        },
        "id": "2VWU4PJshhOW",
        "outputId": "e44e1360-7f17-432e-a485-7e74ac993429"
      },
      "execution_count": 15,
      "outputs": [
        {
          "output_type": "stream",
          "name": "stdout",
          "text": [
            "Enter a number: 5\n",
            "5 x 1 = 5\n",
            "5 x 2 = 10\n",
            "5 x 3 = 15\n",
            "5 x 4 = 20\n",
            "5 x 5 = 25\n",
            "5 x 6 = 30\n",
            "5 x 7 = 35\n",
            "5 x 8 = 40\n",
            "5 x 9 = 45\n",
            "5 x 10 = 50\n"
          ]
        }
      ]
    }
  ]
}