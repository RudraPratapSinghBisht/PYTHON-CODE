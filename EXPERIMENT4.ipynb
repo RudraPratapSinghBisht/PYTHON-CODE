{
  "cells": [
    {
      "cell_type": "markdown",
      "metadata": {
        "id": "view-in-github",
        "colab_type": "text"
      },
      "source": [
        "<a href=\"https://colab.research.google.com/github/RudraPratapSinghBisht/PYTHON-SEM-II/blob/main/EXPERIMENT4.ipynb\" target=\"_parent\"><img src=\"https://colab.research.google.com/assets/colab-badge.svg\" alt=\"Open In Colab\"/></a>"
      ]
    },
    {
      "cell_type": "code",
      "execution_count": null,
      "metadata": {
        "colab": {
          "base_uri": "https://localhost:8080/"
        },
        "id": "OWHsKBu_ZoSy",
        "outputId": "500434cf-815e-49a1-8b33-f5a1be5d90df"
      },
      "outputs": [
        {
          "name": "stdout",
          "output_type": "stream",
          "text": [
            "Enter the number of terms to calculate fibonacci series:10\n",
            "1\n",
            "2\n",
            "3\n",
            "5\n",
            "8\n",
            "13\n",
            "21\n",
            "34\n"
          ]
        }
      ],
      "source": [
        "n=int(input(\"Enter the number of terms to calculate fibonacci series:\"))\n",
        "a,b=0,1\n",
        "if n==2:\n",
        "  print(\"the fibonacci value b:\",a+b)\n",
        "else:\n",
        "  i=3\n",
        "  while i<=n:\n",
        "    c=a+b\n",
        "    print(c)\n",
        "    a=b\n",
        "    b=c\n",
        "    i=i+1\n",
        "    while i<=n:\n",
        "      c=a+b\n",
        "      print(c)\n",
        "      a=b\n",
        "      b=c\n",
        "      i=i+1\n"
      ]
    },
    {
      "cell_type": "code",
      "execution_count": null,
      "metadata": {
        "colab": {
          "background_save": true,
          "base_uri": "https://localhost:8080/"
        },
        "id": "_8i5nM62enT5",
        "outputId": "b3e698b0-f4c2-4787-ee31-e945a5e0d631"
      },
      "outputs": [
        {
          "name": "stdout",
          "output_type": "stream",
          "text": [
            "Sum of digits: 5\n"
          ]
        }
      ],
      "source": [
        "num = int(input(\"Enter a number: \"))\n",
        "sum_of_digits = 0\n",
        "\n",
        "while num > 0:\n",
        "    digit = num % 10\n",
        "    sum_of_digits += digit\n",
        "    num //= 10\n",
        "\n",
        "print(\"Sum of digits:\", sum_of_digits)"
      ]
    },
    {
      "cell_type": "code",
      "execution_count": null,
      "metadata": {
        "colab": {
          "base_uri": "https://localhost:8080/"
        },
        "id": "SJ6jKpZIfPT-",
        "outputId": "282cb67a-dc76-4f20-98f1-aae60b1a14e8"
      },
      "outputs": [
        {
          "name": "stdout",
          "output_type": "stream",
          "text": [
            "Enter a number: 12\n",
            "12 is not a palindrome\n"
          ]
        }
      ],
      "source": [
        "num = int(input(\"Enter a number: \"))\n",
        "temp = num\n",
        "reversed_num = 0\n",
        "\n",
        "while temp > 0:\n",
        "    digit = temp % 10\n",
        "    reversed_num = (reversed_num * 10) + digit\n",
        "    temp //= 10\n",
        "\n",
        "if num == reversed_num:\n",
        "    print(num, \"is a palindrome\")\n",
        "else:\n",
        "    print(num, \"is not a palindrome\")"
      ]
    },
    {
      "cell_type": "code",
      "execution_count": null,
      "metadata": {
        "colab": {
          "base_uri": "https://localhost:8080/"
        },
        "id": "LtPG8bx5fcrN",
        "outputId": "13d77f09-9e36-40e5-c64f-68a270984d45"
      },
      "outputs": [
        {
          "name": "stdout",
          "output_type": "stream",
          "text": [
            "Enter a number: 3\n",
            "3 is a prime number\n"
          ]
        }
      ],
      "source": [
        "num = int(input(\"Enter a number: \"))\n",
        "\n",
        "if num <= 1:\n",
        "    print(num, \"is not a prime number\")\n",
        "else:\n",
        "    i = 2\n",
        "    is_prime = True\n",
        "    while i * i <= num:\n",
        "        if num % i == 0:\n",
        "            is_prime = False\n",
        "            break\n",
        "        i += 1\n",
        "\n",
        "    if is_prime:\n",
        "        print(num, \"is a prime number\")\n",
        "    else:\n",
        "        print(num, \"is not a prime number\")"
      ]
    },
    {
      "cell_type": "code",
      "execution_count": null,
      "metadata": {
        "colab": {
          "base_uri": "https://localhost:8080/"
        },
        "id": "tAQrPXowgD1e",
        "outputId": "06a839e9-d015-462c-9312-2ea1e2ffedde"
      },
      "outputs": [
        {
          "name": "stdout",
          "output_type": "stream",
          "text": [
            "Enter a number: 12\n",
            "The factorial of 0 is 479001600\n"
          ]
        }
      ],
      "source": [
        "num = int(input(\"Enter a number: \"))\n",
        "factorial = 1\n",
        "\n",
        "if num < 0:\n",
        "    print(\"Factorial is not defined for negative numbers.\")\n",
        "elif num == 0:\n",
        "    print(\"The factorial of 0 is 1\")\n",
        "else:\n",
        "    while num > 0:\n",
        "        factorial *= num\n",
        "        num -= 1\n",
        "\n",
        "    print(\"The factorial of\", num, \"is\", factorial)"
      ]
    },
    {
      "cell_type": "code",
      "execution_count": null,
      "metadata": {
        "colab": {
          "base_uri": "https://localhost:8080/"
        },
        "id": "73NOSHQHgees",
        "outputId": "b9db4cc3-4625-4299-cb98-350f8837e45f"
      },
      "outputs": [
        {
          "name": "stdout",
          "output_type": "stream",
          "text": [
            "Enter a number: 12\n",
            "12 is not an Armstrong number\n"
          ]
        }
      ],
      "source": [
        "num = int(input(\"Enter a number: \"))\n",
        "temp = num\n",
        "order = len(str(num))\n",
        "sum_of_powers = 0\n",
        "\n",
        "while temp > 0:\n",
        "    digit = temp % 10\n",
        "    sum_of_powers += digit ** order\n",
        "    temp //= 10\n",
        "\n",
        "if num == sum_of_powers:\n",
        "    print(num, \"is an Armstrong number\")\n",
        "else:\n",
        "    print(num, \"is not an Armstrong number\")"
      ]
    },
    {
      "cell_type": "code",
      "execution_count": null,
      "metadata": {
        "colab": {
          "background_save": true
        },
        "id": "B9dUp2dLgz4h",
        "outputId": "62015d95-cf1b-4b54-e1ab-a0c713e847b3"
      },
      "outputs": [
        {
          "name": "stdout",
          "output_type": "stream",
          "text": [
            "5 7 10 14 15 20 21 25 28 30 35 40 42 45 49 50 55 56 60 63 65 70 75 77 80 84 85 90 91 95 98 100 \n",
            "Total numbers divisible by 5 or 7: 32\n"
          ]
        }
      ],
      "source": [
        "count = 0\n",
        "i = 1\n",
        "\n",
        "while i <= 100:\n",
        "    if i % 5 == 0 or i % 7 == 0:\n",
        "        print(i, end=\" \")\n",
        "        count += 1\n",
        "    i += 1\n",
        "\n",
        "print(\"\\nTotal numbers divisible by 5 or 7:\", count)"
      ]
    },
    {
      "cell_type": "code",
      "execution_count": null,
      "metadata": {
        "colab": {
          "base_uri": "https://localhost:8080/"
        },
        "id": "LmzGAGX5hHj1",
        "outputId": "92b2d67b-4544-45d5-935c-e7deab316df6"
      },
      "outputs": [
        {
          "name": "stdout",
          "output_type": "stream",
          "text": [
            "HELLO WORLD\n"
          ]
        }
      ],
      "source": [
        "string = \"hello world\"\n",
        "i = 0\n",
        "\n",
        "while i < len(string):\n",
        "    if string[i].islower():\n",
        "        string = string[:i] + string[i].upper() + string[i+1:]\n",
        "    i += 1\n",
        "\n",
        "print(string)"
      ]
    },
    {
      "cell_type": "code",
      "execution_count": null,
      "metadata": {
        "colab": {
          "base_uri": "https://localhost:8080/"
        },
        "id": "w1t6suXahLKU",
        "outputId": "5aa625e5-461a-4988-95d6-401c4d38860c"
      },
      "outputs": [
        {
          "name": "stdout",
          "output_type": "stream",
          "text": [
            "2 3 5 7 11 13 17 19 23 29 31 37 41 43 47 53 59 61 67 71 73 79 83 89 97 \n"
          ]
        }
      ],
      "source": [
        "i = 2\n",
        "while i <= 100:\n",
        "    is_prime = True\n",
        "    j = 2\n",
        "    while j * j <= i:\n",
        "        if i % j == 0:\n",
        "            is_prime = False\n",
        "            break\n",
        "        j += 1\n",
        "\n",
        "    if is_prime:\n",
        "        print(i, end=\" \")\n",
        "\n",
        "    i += 1\n",
        "\n",
        "print()"
      ]
    },
    {
      "cell_type": "code",
      "execution_count": null,
      "metadata": {
        "colab": {
          "base_uri": "https://localhost:8080/"
        },
        "id": "2VWU4PJshhOW",
        "outputId": "e44e1360-7f17-432e-a485-7e74ac993429"
      },
      "outputs": [
        {
          "name": "stdout",
          "output_type": "stream",
          "text": [
            "Enter a number: 5\n",
            "5 x 1 = 5\n",
            "5 x 2 = 10\n",
            "5 x 3 = 15\n",
            "5 x 4 = 20\n",
            "5 x 5 = 25\n",
            "5 x 6 = 30\n",
            "5 x 7 = 35\n",
            "5 x 8 = 40\n",
            "5 x 9 = 45\n",
            "5 x 10 = 50\n"
          ]
        }
      ],
      "source": [
        "\n",
        "num = int(input(\"Enter a number: \"))\n",
        "\n",
        "i = 1\n",
        "\n",
        "while i <= 10:\n",
        "    result = num * i\n",
        "    print(f\"{num} x {i} = {result}\")\n",
        "    i += 1"
      ]
    },
    {
      "cell_type": "code",
      "source": [
        "num = int(input(\"Enter a number: \"))\n",
        "factorial = 1\n",
        "if num < 0:\n",
        "   print(\"Sorry, factorial does not exist for negative numbers\")\n",
        "elif num == 0:\n",
        "   print(\"The factorial of 0 is 1\")\n",
        "else:\n",
        "   for i in range(1, num + 1):\n",
        "       factorial = factorial * i\n",
        "   print(\"The factorial of\", num, \"is\", factorial)"
      ],
      "metadata": {
        "colab": {
          "base_uri": "https://localhost:8080/"
        },
        "id": "O8XRxZ4HnPUN",
        "outputId": "69ef07e6-2e5b-450c-c647-87b518582bab"
      },
      "execution_count": 1,
      "outputs": [
        {
          "output_type": "stream",
          "name": "stdout",
          "text": [
            "Enter a number: 19\n",
            "The factorial of 19 is 121645100408832000\n"
          ]
        }
      ]
    },
    {
      "cell_type": "code",
      "source": [
        "# 1. Armstrong Number Check (using for loop, no function, no while loop)\n",
        "num = int(input(\"Enter a number to check for Armstrong: \"))\n",
        "original_num = num\n",
        "order = len(str(num))\n",
        "sum_of_powers = 0\n",
        "\n",
        "temp = num\n",
        "for i in range(order):\n",
        "    digit = temp % 10\n",
        "    sum_of_powers += digit ** order\n",
        "    temp //= 10\n",
        "\n",
        "if original_num == sum_of_powers:\n",
        "    print(f\"{num} is an Armstrong number.\")\n",
        "else:\n",
        "    print(f\"{num} is not an Armstrong number.\")\n",
        "\n",
        "\n",
        "\n",
        "# 3. Fibonacci series up to given term (using for loop, no function)\n",
        "n = int(input(\"Enter the number of terms for Fibonacci series: \"))\n",
        "a, b = 0, 1\n",
        "\n",
        "if n <= 0:\n",
        "    print(\"Please enter a positive integer\")\n",
        "elif n == 1:\n",
        "    print(a)\n",
        "else:\n",
        "    print(a, b, end=\" \")\n",
        "    for i in range(2, n):\n",
        "        c = a + b\n",
        "        print(c, end=\" \")\n",
        "        a, b = b, c\n",
        "print()\n",
        "\n",
        "\n",
        "# 4. Prime number check (using for loop, no function)\n",
        "num = int(input(\"Enter a number to check for prime: \"))\n",
        "\n",
        "if num <= 1:\n",
        "    print(f\"{num} is not a prime number.\")\n",
        "else:\n",
        "    is_prime = True\n",
        "    for i in range(2, int(num**0.5) + 1):\n",
        "        if num % i == 0:\n",
        "            is_prime = False\n",
        "            break\n",
        "    if is_prime:\n",
        "        print(f\"{num} is a prime number.\")\n",
        "    else:\n",
        "        print(f\"{num} is not a prime number.\")\n",
        "\n",
        "\n",
        "# 5. Palindrome check (using for loop, no function, no while loop)\n",
        "num = int(input(\"Enter a number to check for palindrome: \"))\n",
        "original_num = num\n",
        "reversed_num = 0\n",
        "\n",
        "temp = num\n",
        "num_str = str(num) # Convert to string to get length and iterate\n",
        "for i in range(len(num_str)):\n",
        "    digit = temp % 10\n",
        "    reversed_num = reversed_num * 10 + digit\n",
        "    temp //= 10\n",
        "\n",
        "if original_num == reversed_num:\n",
        "    print(f\"{num} is a palindrome.\")\n",
        "else:\n",
        "    print(f\"{num} is not a palindrome.\")\n",
        "\n",
        "\n",
        "# 6. Sum of digits (using for loop, no function, no while loop)\n",
        "num = int(input(\"Enter a number to calculate the sum of its digits: \"))\n",
        "digit_sum = 0\n",
        "\n",
        "temp = num\n",
        "num_str = str(num)\n",
        "for i in range(len(num_str)):\n",
        "    digit = temp % 10\n",
        "    digit_sum += digit\n",
        "    temp //= 10\n",
        "\n",
        "print(\"Sum of digits:\", digit_sum)\n",
        "\n",
        "\n",
        "# 7. Divisible by 5 or 7 between 1 and 100 (using for loop, no function)\n",
        "count = 0\n",
        "for i in range(1, 101):\n",
        "    if i % 5 == 0 or i % 7 == 0:\n",
        "        print(i, end=\" \")\n",
        "        count += 1\n",
        "print(\"\\nTotal count:\", count)\n",
        "\n",
        "\n",
        "# 8. Lowercase to uppercase (using for loop, no function)\n",
        "string = input(\"Enter a string: \")\n",
        "uppercase_string = \"\"\n",
        "for char in string:\n",
        "    if 'a' <= char <= 'z':\n",
        "        uppercase_char = chr(ord(char) - 32)\n",
        "    else:\n",
        "        uppercase_char = char\n",
        "    uppercase_string += uppercase_char\n",
        "\n",
        "print(\"Uppercase string:\", uppercase_string)\n",
        "\n",
        "\n",
        "# 9. Prime numbers between 1 and 100 (using nested for loops, no function)\n",
        "print(\"Prime numbers between 1 and 100:\")\n",
        "for num in range(2, 101):\n",
        "    is_prime = True\n",
        "    for i in range(2, int(num**0.5) + 1):\n",
        "        if num % i == 0:\n",
        "            is_prime = False\n",
        "            break\n",
        "    if is_prime:\n",
        "        print(num, end=\" \")\n",
        "print()\n",
        "\n",
        "\n",
        "\n",
        "# 10. Multiplication table (using for loop, no function)\n",
        "num = int(input(\"Enter a number to print its multiplication table: \"))\n",
        "for i in range(1, 11):\n",
        "    print(f\"{num} * {i} = {num * i}\")"
      ],
      "metadata": {
        "colab": {
          "base_uri": "https://localhost:8080/"
        },
        "id": "tVXr4WMVnbiU",
        "outputId": "ecb01df5-7ec8-4995-8cc3-46548daa0737"
      },
      "execution_count": 2,
      "outputs": [
        {
          "output_type": "stream",
          "name": "stdout",
          "text": [
            "Enter a number to check for Armstrong: 15\n",
            "15 is not an Armstrong number.\n",
            "Enter the number of terms for Fibonacci series: 126\n",
            "0 1 1 2 3 5 8 13 21 34 55 89 144 233 377 610 987 1597 2584 4181 6765 10946 17711 28657 46368 75025 121393 196418 317811 514229 832040 1346269 2178309 3524578 5702887 9227465 14930352 24157817 39088169 63245986 102334155 165580141 267914296 433494437 701408733 1134903170 1836311903 2971215073 4807526976 7778742049 12586269025 20365011074 32951280099 53316291173 86267571272 139583862445 225851433717 365435296162 591286729879 956722026041 1548008755920 2504730781961 4052739537881 6557470319842 10610209857723 17167680177565 27777890035288 44945570212853 72723460248141 117669030460994 190392490709135 308061521170129 498454011879264 806515533049393 1304969544928657 2111485077978050 3416454622906707 5527939700884757 8944394323791464 14472334024676221 23416728348467685 37889062373143906 61305790721611591 99194853094755497 160500643816367088 259695496911122585 420196140727489673 679891637638612258 1100087778366101931 1779979416004714189 2880067194370816120 4660046610375530309 7540113804746346429 12200160415121876738 19740274219868223167 31940434634990099905 51680708854858323072 83621143489848422977 135301852344706746049 218922995834555169026 354224848179261915075 573147844013817084101 927372692193078999176 1500520536206896083277 2427893228399975082453 3928413764606871165730 6356306993006846248183 10284720757613717413913 16641027750620563662096 26925748508234281076009 43566776258854844738105 70492524767089125814114 114059301025943970552219 184551825793033096366333 298611126818977066918552 483162952612010163284885 781774079430987230203437 1264937032042997393488322 2046711111473984623691759 3311648143516982017180081 5358359254990966640871840 8670007398507948658051921 14028366653498915298923761 22698374052006863956975682 36726740705505779255899443 59425114757512643212875125 \n",
            "Enter a number to check for prime: 24\n",
            "24 is not a prime number.\n",
            "Enter a number to check for palindrome: 54\n",
            "54 is not a palindrome.\n",
            "Enter a number to calculate the sum of its digits: 45\n",
            "Sum of digits: 9\n",
            "5 7 10 14 15 20 21 25 28 30 35 40 42 45 49 50 55 56 60 63 65 70 75 77 80 84 85 90 91 95 98 100 \n",
            "Total count: 32\n",
            "Enter a string: 45\n",
            "Uppercase string: 45\n",
            "Prime numbers between 1 and 100:\n",
            "2 3 5 7 11 13 17 19 23 29 31 37 41 43 47 53 59 61 67 71 73 79 83 89 97 \n",
            "Enter a number to print its multiplication table: 58\n",
            "58 * 1 = 58\n",
            "58 * 2 = 116\n",
            "58 * 3 = 174\n",
            "58 * 4 = 232\n",
            "58 * 5 = 290\n",
            "58 * 6 = 348\n",
            "58 * 7 = 406\n",
            "58 * 8 = 464\n",
            "58 * 9 = 522\n",
            "58 * 10 = 580\n"
          ]
        }
      ]
    }
  ],
  "metadata": {
    "colab": {
      "provenance": [],
      "authorship_tag": "ABX9TyN4Uvw4VhbQ9ChCtVIXpi6F",
      "include_colab_link": true
    },
    "kernelspec": {
      "display_name": "Python 3",
      "name": "python3"
    },
    "language_info": {
      "name": "python"
    }
  },
  "nbformat": 4,
  "nbformat_minor": 0
}