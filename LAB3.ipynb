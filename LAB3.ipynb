{
  "nbformat": 4,
  "nbformat_minor": 0,
  "metadata": {
    "colab": {
      "provenance": [],
      "authorship_tag": "ABX9TyNRy6mYWliEm2NciUJubx/y",
      "include_colab_link": true
    },
    "kernelspec": {
      "name": "python3",
      "display_name": "Python 3"
    },
    "language_info": {
      "name": "python"
    }
  },
  "cells": [
    {
      "cell_type": "markdown",
      "metadata": {
        "id": "view-in-github",
        "colab_type": "text"
      },
      "source": [
        "<a href=\"https://colab.research.google.com/github/RudraPratapSinghBisht/PYTHON-SEM-II/blob/main/LAB3.ipynb\" target=\"_parent\"><img src=\"https://colab.research.google.com/assets/colab-badge.svg\" alt=\"Open In Colab\"/></a>"
      ]
    },
    {
      "cell_type": "code",
      "execution_count": 4,
      "metadata": {
        "colab": {
          "base_uri": "https://localhost:8080/"
        },
        "id": "E0dRcIhUvsHO",
        "outputId": "598d3517-a010-4491-e79c-2bbfe86ec1e2"
      },
      "outputs": [
        {
          "output_type": "stream",
          "name": "stdout",
          "text": [
            "Hello\n",
            "Done\n",
            "hot\n",
            "It is a hot day\n",
            "Drink plenty of water\n",
            "Done\n",
            "Enter weight145\n",
            "enter K(kg) or L(Lbs)\n",
            "K\n",
            "319.67028016825003\n"
          ]
        }
      ],
      "source": [
        "x=10\n",
        "if x>0 :\n",
        " print(\"Hello\")\n",
        "x=x+1\n",
        "print(\"Done\")\n",
        "temp=35\n",
        "if temp>30 :\n",
        "   print(\"hot\")\n",
        "else :\n",
        "  print(\"cold\")\n",
        "temp=35\n",
        "if temp>30 :\n",
        "  print(\"It is a hot day\")\n",
        "  print(\"Drink plenty of water\")\n",
        "elif temp>20 & temp<=30 :\n",
        "    print(\"it is a good day\")\n",
        "elif temp>10 & temp<=20 :\n",
        "    print(\"it is a bit cold day\")\n",
        "else :\n",
        "    print(\"enjoy\")\n",
        "print(\"Done\")\n",
        "weight=int(input(\"Enter weight\"))\n",
        "x=input(\"enter K(kg) or L(Lbs)\\n\")\n",
        "if  x=='K' :\n",
        "  lbs = weight*2.20462262185\n",
        "  print(lbs)\n",
        "elif x=='L' :\n",
        "  kg = weight/2.20462262185\n",
        "  print(kg)\n",
        "else :\n",
        "  print(\"Invalid input\")"
      ]
    }
  ]
}