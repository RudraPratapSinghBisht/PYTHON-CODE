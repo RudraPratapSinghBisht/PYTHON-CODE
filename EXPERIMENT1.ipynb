{
  "nbformat": 4,
  "nbformat_minor": 0,
  "metadata": {
    "colab": {
      "provenance": [],
      "authorship_tag": "ABX9TyPFw9i9zlSneTX/GEUPJuct",
      "include_colab_link": true
    },
    "kernelspec": {
      "name": "python3",
      "display_name": "Python 3"
    },
    "language_info": {
      "name": "python"
    }
  },
  "cells": [
    {
      "cell_type": "markdown",
      "metadata": {
        "id": "view-in-github",
        "colab_type": "text"
      },
      "source": [
        "<a href=\"https://colab.research.google.com/github/RudraPratapSinghBisht/PYTHON-SEM-II/blob/main/EXPERIMENT1.ipynb\" target=\"_parent\"><img src=\"https://colab.research.google.com/assets/colab-badge.svg\" alt=\"Open In Colab\"/></a>"
      ]
    },
    {
      "cell_type": "code",
      "execution_count": 2,
      "metadata": {
        "colab": {
          "base_uri": "https://localhost:8080/"
        },
        "id": "2QwNoRKryhtX",
        "outputId": "fe78883a-5efd-41ef-81ce-f57656118ad5"
      },
      "outputs": [
        {
          "output_type": "stream",
          "name": "stdout",
          "text": [
            "-----------------------\n",
            "Hello Everyone !!!\n",
            "Hello\n",
            "      World\n",
            "Hello\n",
            "              World\n",
            "'Rudra's date of birth is 15\\07\\2005'\n",
            "--------------------------\n",
            "hello\n",
            "--------------------------\n",
            "14\n",
            "5.6\n",
            "good evening\n",
            "---------------------------\n",
            "Rudrapratap Singhbisht\n"
          ]
        }
      ],
      "source": [
        "#2\n",
        "print(\"-----------------------\")\n",
        "print(\"Hello Everyone !!!\")\n",
        "print(\"Hello\")\n",
        "print(\"      World\")\n",
        "print(\"Hello\")\n",
        "print(\"              World\")\n",
        "print(\"'Rudra's date of birth is 15\\\\07\\\\2005'\")\n",
        "#3\n",
        "print(\"--------------------------\")\n",
        "x=\"hello\"\n",
        "print(x)\n",
        "\n",
        "#4\n",
        "print(\"--------------------------\")\n",
        "a=14\n",
        "b=5.6\n",
        "c=\"good evening\"\n",
        "print(a)\n",
        "print(b)\n",
        "print(c)\n",
        "\n",
        "#5\n",
        "print(\"---------------------------\")\n",
        "firstname=\"Rudrapratap \"\n",
        "middlename=\"Singh\"\n",
        "lastname=\"bisht\"\n",
        "print(firstname+middlename+lastname)\n"
      ]
    }
  ]
}