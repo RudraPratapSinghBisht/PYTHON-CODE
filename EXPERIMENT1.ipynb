{
  "nbformat": 4,
  "nbformat_minor": 0,
  "metadata": {
    "colab": {
      "provenance": [],
      "authorship_tag": "ABX9TyN5lbQi6qtj0erbSvst3Cqe",
      "include_colab_link": true
    },
    "kernelspec": {
      "name": "python3",
      "display_name": "Python 3"
    },
    "language_info": {
      "name": "python"
    }
  },
  "cells": [
    {
      "cell_type": "markdown",
      "metadata": {
        "id": "view-in-github",
        "colab_type": "text"
      },
      "source": [
        "<a href=\"https://colab.research.google.com/github/RudraPratapSinghBisht/PYTHON-SEM-II/blob/main/EXPERIMENT1.ipynb\" target=\"_parent\"><img src=\"https://colab.research.google.com/assets/colab-badge.svg\" alt=\"Open In Colab\"/></a>"
      ]
    },
    {
      "cell_type": "code",
      "execution_count": 5,
      "metadata": {
        "colab": {
          "base_uri": "https://localhost:8080/"
        },
        "id": "2QwNoRKryhtX",
        "outputId": "44c481ad-f1af-4cb9-e8f9-c80fdd5af87c"
      },
      "outputs": [
        {
          "output_type": "stream",
          "name": "stdout",
          "text": [
            "-----------------------\n",
            "Hello Everyone !!!\n",
            "Hello\n",
            "      World\n",
            "Hello\n",
            "              World\n",
            "'Rudra's date of birth is 15\\07\\2005'\n",
            "--------------------------\n",
            "hello\n",
            "--------------------------\n",
            "14\n",
            "5.6\n",
            "good evening\n",
            "---------------------------\n",
            "Rudrapratap Singhbisht\n",
            "---------------------------\n",
            "Rudrapratap (Rudyy) Bisht\n",
            "----------------------------\n",
            "NAME: Rudra Bisht\n",
            "SAP ID: 590016590\n",
            "DATE OF BIRTH: 13 Oct 2005\n",
            "ADDRESS:\n",
            "UPES\n",
            "Bidholi Campus\n",
            "Pincode: 248007\n",
            "Programme: Cyber Security\n"
          ]
        }
      ],
      "source": [
        "#2\n",
        "print(\"-----------------------\")\n",
        "print(\"Hello Everyone !!!\")\n",
        "print(\"Hello\")\n",
        "print(\"      World\")\n",
        "print(\"Hello\")\n",
        "print(\"              World\")\n",
        "print(\"'Rudra's date of birth is 15\\\\07\\\\2005'\")\n",
        "#3\n",
        "print(\"--------------------------\")\n",
        "x=\"hello\"\n",
        "print(x)\n",
        "\n",
        "#4\n",
        "print(\"--------------------------\")\n",
        "a=14\n",
        "b=5.6\n",
        "c=\"good evening\"\n",
        "print(a)\n",
        "print(b)\n",
        "print(c)\n",
        "\n",
        "#5\n",
        "print(\"---------------------------\")\n",
        "firstname=\"Rudrapratap \"\n",
        "middlename=\"Singh\"\n",
        "lastname=\"bisht\"\n",
        "print(firstname+middlename+lastname)\n",
        "\n",
        "#6\n",
        "print(\"---------------------------\")\n",
        "# Declare the variables\n",
        "first_name = \"Rudrapratap\"\n",
        "last_name = \"Bisht\"\n",
        "nickname =  \"Rudyy\"\n",
        "\n",
        "# Print the result in the format: FirstName (Nickname) LastName\n",
        "print(first_name + \" (\" + nickname + \") \" +last_name)\n",
        "\n",
        "#7\n",
        "print(\"----------------------------\")\n",
        "name = \"Rudra Bisht\"\n",
        "sap_id = \"590016590\"\n",
        "dob = \"13 Oct 2005\"\n",
        "address_line1 = \"UPES\"\n",
        "address_line2 = \"Bidholi Campus\"\n",
        "pincode = \"248007\"\n",
        "programme = \"Cyber Security\"\n",
        "\n",
        "print(\"NAME:\", name)\n",
        "print(\"SAP ID:\", sap_id)\n",
        "print(\"DATE OF BIRTH:\", dob)\n",
        "print(\"ADDRESS:\")\n",
        "print(address_line1)\n",
        "print(address_line2)\n",
        "print(\"Pincode:\", pincode)\n",
        "print(\"Programme:\", programme)\n"
      ]
    }
  ]
}